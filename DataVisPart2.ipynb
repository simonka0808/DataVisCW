{
  "nbformat": 4,
  "nbformat_minor": 0,
  "metadata": {
    "colab": {
      "provenance": []
    },
    "kernelspec": {
      "name": "python3",
      "display_name": "Python 3"
    },
    "language_info": {
      "name": "python"
    }
  },
  "cells": [
    {
      "cell_type": "code",
      "execution_count": null,
      "metadata": {
        "id": "DRCIoWpVqmA1"
      },
      "outputs": [],
      "source": [
        "import pandas as pd\n",
        "import numpy as np\n",
        "import calendar\n",
        "from google.colab import drive"
      ]
    },
    {
      "cell_type": "code",
      "source": [
        "from google.colab import drive\n",
        "drive.mount('/content/drive')"
      ],
      "metadata": {
        "colab": {
          "base_uri": "https://localhost:8080/"
        },
        "id": "1Hy5eh__J5lR",
        "outputId": "4908f8a0-d0da-4487-c9ba-c8ff2e8aa135"
      },
      "execution_count": null,
      "outputs": [
        {
          "output_type": "stream",
          "name": "stdout",
          "text": [
            "Drive already mounted at /content/drive; to attempt to forcibly remount, call drive.mount(\"/content/drive\", force_remount=True).\n"
          ]
        }
      ]
    },
    {
      "cell_type": "code",
      "source": [
        "drive.mount('/content/gdrive')"
      ],
      "metadata": {
        "colab": {
          "base_uri": "https://localhost:8080/"
        },
        "id": "jnv8xhbPqtva",
        "outputId": "5a103de2-2c6a-4592-efa8-4038f7410f63"
      },
      "execution_count": null,
      "outputs": [
        {
          "output_type": "stream",
          "name": "stdout",
          "text": [
            "Mounted at /content/gdrive\n"
          ]
        }
      ]
    },
    {
      "cell_type": "code",
      "source": [
        "Data = pd.read_excel(r'/content/gdrive/My Drive/DB_DATA_VIS/Finland_Airports.xlsx')"
      ],
      "metadata": {
        "id": "UCq1sV3CVW3o"
      },
      "execution_count": null,
      "outputs": []
    },
    {
      "cell_type": "code",
      "source": [
        "# display(Data)"
      ],
      "metadata": {
        "colab": {
          "base_uri": "https://localhost:8080/",
          "height": 174
        },
        "id": "E_Sgsevu2hsa",
        "outputId": "5ec63d73-c103-4e7e-8ffa-b5ed9e48dff0"
      },
      "execution_count": null,
      "outputs": [
        {
          "output_type": "display_data",
          "data": {
            "text/plain": [
              "     2019M01    2019M02    2019M03    2019M04    2019M05    2019M06  \\\n",
              "0  1969169.0  1951842.0  2203647.0  2135867.0  2269401.0  2355497.0   \n",
              "\n",
              "     2019M07    2019M08    2019M09    2019M10  ...   2021M10   2021M11  \\\n",
              "0  2348056.0  2308374.0  2268741.0  2255817.0  ...  772566.0  858229.0   \n",
              "\n",
              "     2021M12   2022M01   2022M02    2022M03    2022M04    2022M05    2022M06  \\\n",
              "0  1205058.0  818573.0  829174.0  1080033.0  1131132.0  1321411.0  1479037.0   \n",
              "\n",
              "     2022M07  \n",
              "0  1565272.0  \n",
              "\n",
              "[1 rows x 43 columns]"
            ],
            "text/html": [
              "\n",
              "  <div id=\"df-dedb5ca1-053e-4d27-b76e-33c79712fc71\">\n",
              "    <div class=\"colab-df-container\">\n",
              "      <div>\n",
              "<style scoped>\n",
              "    .dataframe tbody tr th:only-of-type {\n",
              "        vertical-align: middle;\n",
              "    }\n",
              "\n",
              "    .dataframe tbody tr th {\n",
              "        vertical-align: top;\n",
              "    }\n",
              "\n",
              "    .dataframe thead th {\n",
              "        text-align: right;\n",
              "    }\n",
              "</style>\n",
              "<table border=\"1\" class=\"dataframe\">\n",
              "  <thead>\n",
              "    <tr style=\"text-align: right;\">\n",
              "      <th></th>\n",
              "      <th>2019M01</th>\n",
              "      <th>2019M02</th>\n",
              "      <th>2019M03</th>\n",
              "      <th>2019M04</th>\n",
              "      <th>2019M05</th>\n",
              "      <th>2019M06</th>\n",
              "      <th>2019M07</th>\n",
              "      <th>2019M08</th>\n",
              "      <th>2019M09</th>\n",
              "      <th>2019M10</th>\n",
              "      <th>...</th>\n",
              "      <th>2021M10</th>\n",
              "      <th>2021M11</th>\n",
              "      <th>2021M12</th>\n",
              "      <th>2022M01</th>\n",
              "      <th>2022M02</th>\n",
              "      <th>2022M03</th>\n",
              "      <th>2022M04</th>\n",
              "      <th>2022M05</th>\n",
              "      <th>2022M06</th>\n",
              "      <th>2022M07</th>\n",
              "    </tr>\n",
              "  </thead>\n",
              "  <tbody>\n",
              "    <tr>\n",
              "      <th>0</th>\n",
              "      <td>1969169.0</td>\n",
              "      <td>1951842.0</td>\n",
              "      <td>2203647.0</td>\n",
              "      <td>2135867.0</td>\n",
              "      <td>2269401.0</td>\n",
              "      <td>2355497.0</td>\n",
              "      <td>2348056.0</td>\n",
              "      <td>2308374.0</td>\n",
              "      <td>2268741.0</td>\n",
              "      <td>2255817.0</td>\n",
              "      <td>...</td>\n",
              "      <td>772566.0</td>\n",
              "      <td>858229.0</td>\n",
              "      <td>1205058.0</td>\n",
              "      <td>818573.0</td>\n",
              "      <td>829174.0</td>\n",
              "      <td>1080033.0</td>\n",
              "      <td>1131132.0</td>\n",
              "      <td>1321411.0</td>\n",
              "      <td>1479037.0</td>\n",
              "      <td>1565272.0</td>\n",
              "    </tr>\n",
              "  </tbody>\n",
              "</table>\n",
              "<p>1 rows × 43 columns</p>\n",
              "</div>\n",
              "      <button class=\"colab-df-convert\" onclick=\"convertToInteractive('df-dedb5ca1-053e-4d27-b76e-33c79712fc71')\"\n",
              "              title=\"Convert this dataframe to an interactive table.\"\n",
              "              style=\"display:none;\">\n",
              "        \n",
              "  <svg xmlns=\"http://www.w3.org/2000/svg\" height=\"24px\"viewBox=\"0 0 24 24\"\n",
              "       width=\"24px\">\n",
              "    <path d=\"M0 0h24v24H0V0z\" fill=\"none\"/>\n",
              "    <path d=\"M18.56 5.44l.94 2.06.94-2.06 2.06-.94-2.06-.94-.94-2.06-.94 2.06-2.06.94zm-11 1L8.5 8.5l.94-2.06 2.06-.94-2.06-.94L8.5 2.5l-.94 2.06-2.06.94zm10 10l.94 2.06.94-2.06 2.06-.94-2.06-.94-.94-2.06-.94 2.06-2.06.94z\"/><path d=\"M17.41 7.96l-1.37-1.37c-.4-.4-.92-.59-1.43-.59-.52 0-1.04.2-1.43.59L10.3 9.45l-7.72 7.72c-.78.78-.78 2.05 0 2.83L4 21.41c.39.39.9.59 1.41.59.51 0 1.02-.2 1.41-.59l7.78-7.78 2.81-2.81c.8-.78.8-2.07 0-2.86zM5.41 20L4 18.59l7.72-7.72 1.47 1.35L5.41 20z\"/>\n",
              "  </svg>\n",
              "      </button>\n",
              "      \n",
              "  <style>\n",
              "    .colab-df-container {\n",
              "      display:flex;\n",
              "      flex-wrap:wrap;\n",
              "      gap: 12px;\n",
              "    }\n",
              "\n",
              "    .colab-df-convert {\n",
              "      background-color: #E8F0FE;\n",
              "      border: none;\n",
              "      border-radius: 50%;\n",
              "      cursor: pointer;\n",
              "      display: none;\n",
              "      fill: #1967D2;\n",
              "      height: 32px;\n",
              "      padding: 0 0 0 0;\n",
              "      width: 32px;\n",
              "    }\n",
              "\n",
              "    .colab-df-convert:hover {\n",
              "      background-color: #E2EBFA;\n",
              "      box-shadow: 0px 1px 2px rgba(60, 64, 67, 0.3), 0px 1px 3px 1px rgba(60, 64, 67, 0.15);\n",
              "      fill: #174EA6;\n",
              "    }\n",
              "\n",
              "    [theme=dark] .colab-df-convert {\n",
              "      background-color: #3B4455;\n",
              "      fill: #D2E3FC;\n",
              "    }\n",
              "\n",
              "    [theme=dark] .colab-df-convert:hover {\n",
              "      background-color: #434B5C;\n",
              "      box-shadow: 0px 1px 3px 1px rgba(0, 0, 0, 0.15);\n",
              "      filter: drop-shadow(0px 1px 2px rgba(0, 0, 0, 0.3));\n",
              "      fill: #FFFFFF;\n",
              "    }\n",
              "  </style>\n",
              "\n",
              "      <script>\n",
              "        const buttonEl =\n",
              "          document.querySelector('#df-dedb5ca1-053e-4d27-b76e-33c79712fc71 button.colab-df-convert');\n",
              "        buttonEl.style.display =\n",
              "          google.colab.kernel.accessAllowed ? 'block' : 'none';\n",
              "\n",
              "        async function convertToInteractive(key) {\n",
              "          const element = document.querySelector('#df-dedb5ca1-053e-4d27-b76e-33c79712fc71');\n",
              "          const dataTable =\n",
              "            await google.colab.kernel.invokeFunction('convertToInteractive',\n",
              "                                                     [key], {});\n",
              "          if (!dataTable) return;\n",
              "\n",
              "          const docLinkHtml = 'Like what you see? Visit the ' +\n",
              "            '<a target=\"_blank\" href=https://colab.research.google.com/notebooks/data_table.ipynb>data table notebook</a>'\n",
              "            + ' to learn more about interactive tables.';\n",
              "          element.innerHTML = '';\n",
              "          dataTable['output_type'] = 'display_data';\n",
              "          await google.colab.output.renderOutput(dataTable, element);\n",
              "          const docLink = document.createElement('div');\n",
              "          docLink.innerHTML = docLinkHtml;\n",
              "          element.appendChild(docLink);\n",
              "        }\n",
              "      </script>\n",
              "    </div>\n",
              "  </div>\n",
              "  "
            ]
          },
          "metadata": {}
        }
      ]
    },
    {
      "cell_type": "code",
      "source": [
        "Netherlands_Airports = pd.read_excel(r'/content/gdrive/My Drive/DB_DATA_VIS/Netherlands.xlsx')"
      ],
      "metadata": {
        "id": "e2R7fgy-cnUv"
      },
      "execution_count": null,
      "outputs": []
    },
    {
      "cell_type": "code",
      "source": [
        "OilandGasFinland = pd.read_excel(r'/content/gdrive/My Drive/DB_DATA_VIS/OilAndGasFinland.xlsx')"
      ],
      "metadata": {
        "id": "bFY3ul8FXpVG"
      },
      "execution_count": null,
      "outputs": []
    },
    {
      "cell_type": "code",
      "source": [
        "OilandGasNetherlands = pd.read_excel(r'/content/gdrive/My Drive/DB_DATA_VIS/OilAndGasNetherlands.xlsx')"
      ],
      "metadata": {
        "id": "ufoEgI-qwbIj"
      },
      "execution_count": null,
      "outputs": []
    },
    {
      "cell_type": "code",
      "source": [
        "BigMacPrice = pd.read_excel(r'/content/gdrive/My Drive/DB_DATA_VIS/BigmacPrice.xlsx', parse_dates=['date'])"
      ],
      "metadata": {
        "id": "5_k0G0dSS3DL"
      },
      "execution_count": null,
      "outputs": []
    },
    {
      "cell_type": "code",
      "source": [
        "Vehicles_Netherlands = pd.read_excel(r'/content/gdrive/My Drive/DB_DATA_VIS/Vehicles_Netherlands.xlsx', parse_dates=['Date'])"
      ],
      "metadata": {
        "id": "CGVmhv2v53ap"
      },
      "execution_count": null,
      "outputs": []
    },
    {
      "cell_type": "code",
      "source": [
        "Vehicles_Finland = pd.read_excel(r'/content/gdrive/My Drive/DB_DATA_VIS/Finalnd_Vehicles.xlsx', parse_dates=['Date'])"
      ],
      "metadata": {
        "id": "JMTkz7kB6FKB"
      },
      "execution_count": null,
      "outputs": []
    },
    {
      "cell_type": "code",
      "source": [
        "# Vehicles_Finland.isnull().sum()"
      ],
      "metadata": {
        "id": "DVChmmS_iSjY"
      },
      "execution_count": null,
      "outputs": []
    },
    {
      "cell_type": "code",
      "source": [
        "Vehicles_Netherlands.isnull().sum()"
      ],
      "metadata": {
        "colab": {
          "base_uri": "https://localhost:8080/"
        },
        "id": "kIcOeq-ijKop",
        "outputId": "3c2d178a-e3f2-465e-90fa-8e0719c7d204"
      },
      "execution_count": null,
      "outputs": [
        {
          "output_type": "execute_result",
          "data": {
            "text/plain": [
              "Date                          0\n",
              "Commercial vehicles Month     0\n",
              "Passengers vehicles Month     1\n",
              "Monthly vehicle sales         1\n",
              "Monthly Vehicles/ 1,000 p.    1\n",
              "Commercial vehicles Year      0\n",
              "Passengers vehicles Year      2\n",
              "Annual vehicle sales          2\n",
              "Annual Vehicles/ 1,000 p.     2\n",
              "dtype: int64"
            ]
          },
          "metadata": {},
          "execution_count": 13
        }
      ]
    },
    {
      "cell_type": "code",
      "source": [
        "Vehicles_Netherlands = Vehicles_Netherlands.replace(np.nan, 0)"
      ],
      "metadata": {
        "id": "s2ZFHrZywkE8"
      },
      "execution_count": null,
      "outputs": []
    },
    {
      "cell_type": "code",
      "source": [
        "Vehicles_Netherlands.isnull().sum()\n",
        "# display(Vehicles_Netherlands)"
      ],
      "metadata": {
        "colab": {
          "base_uri": "https://localhost:8080/"
        },
        "id": "A2z1s_aIwqJG",
        "outputId": "b12ae38c-ab11-4320-b7d6-6597f1b964c0"
      },
      "execution_count": null,
      "outputs": [
        {
          "output_type": "execute_result",
          "data": {
            "text/plain": [
              "Date                          0\n",
              "Commercial vehicles Month     0\n",
              "Passengers vehicles Month     0\n",
              "Monthly vehicle sales         0\n",
              "Monthly Vehicles/ 1,000 p.    0\n",
              "Commercial vehicles Year      0\n",
              "Passengers vehicles Year      0\n",
              "Annual vehicle sales          0\n",
              "Annual Vehicles/ 1,000 p.     0\n",
              "dtype: int64"
            ]
          },
          "metadata": {},
          "execution_count": 15
        }
      ]
    },
    {
      "cell_type": "code",
      "source": [
        "# BigMacPrice.isnull().sum()"
      ],
      "metadata": {
        "id": "93FdOM5QjPls"
      },
      "execution_count": null,
      "outputs": []
    },
    {
      "cell_type": "code",
      "source": [
        "# OilandGasNetherlands.isnull().sum()"
      ],
      "metadata": {
        "id": "j-yBup4-jVEy"
      },
      "execution_count": null,
      "outputs": []
    },
    {
      "cell_type": "code",
      "source": [
        "# OilandGasFinland.isnull().sum()"
      ],
      "metadata": {
        "id": "eVO4ojiDjYTz"
      },
      "execution_count": null,
      "outputs": []
    },
    {
      "cell_type": "code",
      "source": [
        "# Data.isnull().sum()"
      ],
      "metadata": {
        "id": "pjHzo3_rjdKB"
      },
      "execution_count": null,
      "outputs": []
    },
    {
      "cell_type": "code",
      "source": [
        "Netherlands_Airports.isnull().sum()"
      ],
      "metadata": {
        "id": "M4yOFOnVjed7",
        "colab": {
          "base_uri": "https://localhost:8080/"
        },
        "outputId": "1f3abe7d-6ed1-44ee-d187-c9217a9e25d7"
      },
      "execution_count": null,
      "outputs": [
        {
          "output_type": "execute_result",
          "data": {
            "text/plain": [
              "Year                       0\n",
              "Unnamed: 1                36\n",
              "Aircraft movements         0\n",
              "Local flights              0\n",
              "Commercial air traffic     0\n",
              "Scheduled                  0\n",
              "Passengers                 0\n",
              "Cargo                      0\n",
              "Mail                       0\n",
              "dtype: int64"
            ]
          },
          "metadata": {},
          "execution_count": 59
        }
      ]
    },
    {
      "cell_type": "code",
      "source": [
        "BigMacPrice = BigMacPrice.rename(columns={'date': 'Date'})\n"
      ],
      "metadata": {
        "id": "seVwrleHiN2e"
      },
      "execution_count": null,
      "outputs": []
    },
    {
      "cell_type": "code",
      "source": [
        "# display(BigMacPrice)"
      ],
      "metadata": {
        "id": "ql5C_7dcYMlj"
      },
      "execution_count": null,
      "outputs": []
    },
    {
      "cell_type": "code",
      "source": [
        "BigMacPrice_Netherlands = BigMacPrice[(BigMacPrice[\"name\"]==\"Netherlands\")].sort_values(by=['Date'])"
      ],
      "metadata": {
        "id": "7YnpEFb_ULFs"
      },
      "execution_count": null,
      "outputs": []
    },
    {
      "cell_type": "code",
      "source": [
        "BigMacPrice_Finland = BigMacPrice[(BigMacPrice[\"name\"]==\"Finland\")].sort_values(by=['Date'])"
      ],
      "metadata": {
        "id": "pSJFgoEpWrgi"
      },
      "execution_count": null,
      "outputs": []
    },
    {
      "cell_type": "code",
      "source": [
        "BigMacPrice_final = BigMacPrice_Netherlands.append(BigMacPrice_Finland, ignore_index=True)\n"
      ],
      "metadata": {
        "id": "S0Y_WE6VXDtC"
      },
      "execution_count": null,
      "outputs": []
    },
    {
      "cell_type": "code",
      "source": [
        "BigMacPrice_final.rename(columns={'date': 'Date', 'name': 'Name'}, inplace=True)\n"
      ],
      "metadata": {
        "id": "v5OLsVN_27E_"
      },
      "execution_count": null,
      "outputs": []
    },
    {
      "cell_type": "code",
      "source": [
        "BigMacPrice_final = BigMacPrice_final.drop(columns=['dollar_ex', 'dollar_price'])"
      ],
      "metadata": {
        "id": "DtOTwpLNOLAY"
      },
      "execution_count": null,
      "outputs": []
    },
    {
      "cell_type": "code",
      "source": [
        "# display(BigMacPrice_final)"
      ],
      "metadata": {
        "id": "CN85StulOEZ6"
      },
      "execution_count": null,
      "outputs": []
    },
    {
      "cell_type": "code",
      "source": [
        "first_index_value = BigMacPrice_final.index[0]\n",
        "print(first_index_value)\n",
        "print(type(first_index_value))"
      ],
      "metadata": {
        "colab": {
          "base_uri": "https://localhost:8080/"
        },
        "id": "66fjLTDJ85UO",
        "outputId": "52735d31-9038-431b-d86a-1978287bce24"
      },
      "execution_count": null,
      "outputs": [
        {
          "output_type": "stream",
          "name": "stdout",
          "text": [
            "0\n",
            "<class 'int'>\n"
          ]
        }
      ]
    },
    {
      "cell_type": "code",
      "source": [
        "# display(BigMacPrice_final)"
      ],
      "metadata": {
        "id": "gPCvsHW5V6cn"
      },
      "execution_count": null,
      "outputs": []
    },
    {
      "cell_type": "code",
      "source": [
        "BigMacPrice_final.to_csv('BigMacPrice_final.csv', index=False)"
      ],
      "metadata": {
        "id": "ifUR7FDw6J9d"
      },
      "execution_count": null,
      "outputs": []
    },
    {
      "cell_type": "code",
      "source": [
        "OilandGasFinland = OilandGasFinland.reset_index()"
      ],
      "metadata": {
        "id": "LDEX54nuZJ4C"
      },
      "execution_count": null,
      "outputs": []
    },
    {
      "cell_type": "code",
      "source": [
        "OilandGasFinland[\"Date\"] = pd.to_datetime(OilandGasFinland[\"Date\"])"
      ],
      "metadata": {
        "id": "p8udLyHbYT_D"
      },
      "execution_count": null,
      "outputs": []
    },
    {
      "cell_type": "code",
      "source": [
        "OilandGasFinland = OilandGasFinland.drop(columns=['Super 95 (No Tax)', 'Gas oil (No Tax)', 'Heating gas (No Tax)'])"
      ],
      "metadata": {
        "id": "NajfRsdpYy-j"
      },
      "execution_count": null,
      "outputs": []
    },
    {
      "cell_type": "code",
      "source": [
        "OilandGasFinland.insert(0, 'Name', 'Finland')"
      ],
      "metadata": {
        "id": "0u2p6UtqyNK8"
      },
      "execution_count": null,
      "outputs": []
    },
    {
      "cell_type": "code",
      "source": [
        "# display(OilandGasFinland)"
      ],
      "metadata": {
        "id": "LEKGW9ncYg8F"
      },
      "execution_count": null,
      "outputs": []
    },
    {
      "cell_type": "code",
      "source": [
        "OilandGasFinland.to_csv('OilandGasFinland.csv', index=False)\n"
      ],
      "metadata": {
        "id": "IYz4cDXaA4x9"
      },
      "execution_count": null,
      "outputs": []
    },
    {
      "cell_type": "code",
      "source": [
        "# super95_av_2022 = OilandGasFinland['Super 95'].iloc[0:42].mean(axis=0)\n",
        "# print(super95_av_2022)\n"
      ],
      "metadata": {
        "id": "K-Vskyr9YUDP"
      },
      "execution_count": null,
      "outputs": []
    },
    {
      "cell_type": "code",
      "source": [
        "display(Data)"
      ],
      "metadata": {
        "colab": {
          "base_uri": "https://localhost:8080/",
          "height": 174
        },
        "id": "Yoi8DQFl2YqF",
        "outputId": "16e812a1-6140-4336-8b4e-656701b78c8f"
      },
      "execution_count": null,
      "outputs": [
        {
          "output_type": "display_data",
          "data": {
            "text/plain": [
              "     2019M01    2019M02    2019M03    2019M04    2019M05    2019M06  \\\n",
              "0  1969169.0  1951842.0  2203647.0  2135867.0  2269401.0  2355497.0   \n",
              "\n",
              "     2019M07    2019M08    2019M09    2019M10  ...   2021M10   2021M11  \\\n",
              "0  2348056.0  2308374.0  2268741.0  2255817.0  ...  772566.0  858229.0   \n",
              "\n",
              "     2021M12   2022M01   2022M02    2022M03    2022M04    2022M05    2022M06  \\\n",
              "0  1205058.0  818573.0  829174.0  1080033.0  1131132.0  1321411.0  1479037.0   \n",
              "\n",
              "     2022M07  \n",
              "0  1565272.0  \n",
              "\n",
              "[1 rows x 43 columns]"
            ],
            "text/html": [
              "\n",
              "  <div id=\"df-dbfe5f11-af6d-4759-aea7-c6bbe0b4edc4\">\n",
              "    <div class=\"colab-df-container\">\n",
              "      <div>\n",
              "<style scoped>\n",
              "    .dataframe tbody tr th:only-of-type {\n",
              "        vertical-align: middle;\n",
              "    }\n",
              "\n",
              "    .dataframe tbody tr th {\n",
              "        vertical-align: top;\n",
              "    }\n",
              "\n",
              "    .dataframe thead th {\n",
              "        text-align: right;\n",
              "    }\n",
              "</style>\n",
              "<table border=\"1\" class=\"dataframe\">\n",
              "  <thead>\n",
              "    <tr style=\"text-align: right;\">\n",
              "      <th></th>\n",
              "      <th>2019M01</th>\n",
              "      <th>2019M02</th>\n",
              "      <th>2019M03</th>\n",
              "      <th>2019M04</th>\n",
              "      <th>2019M05</th>\n",
              "      <th>2019M06</th>\n",
              "      <th>2019M07</th>\n",
              "      <th>2019M08</th>\n",
              "      <th>2019M09</th>\n",
              "      <th>2019M10</th>\n",
              "      <th>...</th>\n",
              "      <th>2021M10</th>\n",
              "      <th>2021M11</th>\n",
              "      <th>2021M12</th>\n",
              "      <th>2022M01</th>\n",
              "      <th>2022M02</th>\n",
              "      <th>2022M03</th>\n",
              "      <th>2022M04</th>\n",
              "      <th>2022M05</th>\n",
              "      <th>2022M06</th>\n",
              "      <th>2022M07</th>\n",
              "    </tr>\n",
              "  </thead>\n",
              "  <tbody>\n",
              "    <tr>\n",
              "      <th>0</th>\n",
              "      <td>1969169.0</td>\n",
              "      <td>1951842.0</td>\n",
              "      <td>2203647.0</td>\n",
              "      <td>2135867.0</td>\n",
              "      <td>2269401.0</td>\n",
              "      <td>2355497.0</td>\n",
              "      <td>2348056.0</td>\n",
              "      <td>2308374.0</td>\n",
              "      <td>2268741.0</td>\n",
              "      <td>2255817.0</td>\n",
              "      <td>...</td>\n",
              "      <td>772566.0</td>\n",
              "      <td>858229.0</td>\n",
              "      <td>1205058.0</td>\n",
              "      <td>818573.0</td>\n",
              "      <td>829174.0</td>\n",
              "      <td>1080033.0</td>\n",
              "      <td>1131132.0</td>\n",
              "      <td>1321411.0</td>\n",
              "      <td>1479037.0</td>\n",
              "      <td>1565272.0</td>\n",
              "    </tr>\n",
              "  </tbody>\n",
              "</table>\n",
              "<p>1 rows × 43 columns</p>\n",
              "</div>\n",
              "      <button class=\"colab-df-convert\" onclick=\"convertToInteractive('df-dbfe5f11-af6d-4759-aea7-c6bbe0b4edc4')\"\n",
              "              title=\"Convert this dataframe to an interactive table.\"\n",
              "              style=\"display:none;\">\n",
              "        \n",
              "  <svg xmlns=\"http://www.w3.org/2000/svg\" height=\"24px\"viewBox=\"0 0 24 24\"\n",
              "       width=\"24px\">\n",
              "    <path d=\"M0 0h24v24H0V0z\" fill=\"none\"/>\n",
              "    <path d=\"M18.56 5.44l.94 2.06.94-2.06 2.06-.94-2.06-.94-.94-2.06-.94 2.06-2.06.94zm-11 1L8.5 8.5l.94-2.06 2.06-.94-2.06-.94L8.5 2.5l-.94 2.06-2.06.94zm10 10l.94 2.06.94-2.06 2.06-.94-2.06-.94-.94-2.06-.94 2.06-2.06.94z\"/><path d=\"M17.41 7.96l-1.37-1.37c-.4-.4-.92-.59-1.43-.59-.52 0-1.04.2-1.43.59L10.3 9.45l-7.72 7.72c-.78.78-.78 2.05 0 2.83L4 21.41c.39.39.9.59 1.41.59.51 0 1.02-.2 1.41-.59l7.78-7.78 2.81-2.81c.8-.78.8-2.07 0-2.86zM5.41 20L4 18.59l7.72-7.72 1.47 1.35L5.41 20z\"/>\n",
              "  </svg>\n",
              "      </button>\n",
              "      \n",
              "  <style>\n",
              "    .colab-df-container {\n",
              "      display:flex;\n",
              "      flex-wrap:wrap;\n",
              "      gap: 12px;\n",
              "    }\n",
              "\n",
              "    .colab-df-convert {\n",
              "      background-color: #E8F0FE;\n",
              "      border: none;\n",
              "      border-radius: 50%;\n",
              "      cursor: pointer;\n",
              "      display: none;\n",
              "      fill: #1967D2;\n",
              "      height: 32px;\n",
              "      padding: 0 0 0 0;\n",
              "      width: 32px;\n",
              "    }\n",
              "\n",
              "    .colab-df-convert:hover {\n",
              "      background-color: #E2EBFA;\n",
              "      box-shadow: 0px 1px 2px rgba(60, 64, 67, 0.3), 0px 1px 3px 1px rgba(60, 64, 67, 0.15);\n",
              "      fill: #174EA6;\n",
              "    }\n",
              "\n",
              "    [theme=dark] .colab-df-convert {\n",
              "      background-color: #3B4455;\n",
              "      fill: #D2E3FC;\n",
              "    }\n",
              "\n",
              "    [theme=dark] .colab-df-convert:hover {\n",
              "      background-color: #434B5C;\n",
              "      box-shadow: 0px 1px 3px 1px rgba(0, 0, 0, 0.15);\n",
              "      filter: drop-shadow(0px 1px 2px rgba(0, 0, 0, 0.3));\n",
              "      fill: #FFFFFF;\n",
              "    }\n",
              "  </style>\n",
              "\n",
              "      <script>\n",
              "        const buttonEl =\n",
              "          document.querySelector('#df-dbfe5f11-af6d-4759-aea7-c6bbe0b4edc4 button.colab-df-convert');\n",
              "        buttonEl.style.display =\n",
              "          google.colab.kernel.accessAllowed ? 'block' : 'none';\n",
              "\n",
              "        async function convertToInteractive(key) {\n",
              "          const element = document.querySelector('#df-dbfe5f11-af6d-4759-aea7-c6bbe0b4edc4');\n",
              "          const dataTable =\n",
              "            await google.colab.kernel.invokeFunction('convertToInteractive',\n",
              "                                                     [key], {});\n",
              "          if (!dataTable) return;\n",
              "\n",
              "          const docLinkHtml = 'Like what you see? Visit the ' +\n",
              "            '<a target=\"_blank\" href=https://colab.research.google.com/notebooks/data_table.ipynb>data table notebook</a>'\n",
              "            + ' to learn more about interactive tables.';\n",
              "          element.innerHTML = '';\n",
              "          dataTable['output_type'] = 'display_data';\n",
              "          await google.colab.output.renderOutput(dataTable, element);\n",
              "          const docLink = document.createElement('div');\n",
              "          docLink.innerHTML = docLinkHtml;\n",
              "          element.appendChild(docLink);\n",
              "        }\n",
              "      </script>\n",
              "    </div>\n",
              "  </div>\n",
              "  "
            ]
          },
          "metadata": {}
        }
      ]
    },
    {
      "cell_type": "code",
      "source": [
        "Data = Data.transpose()"
      ],
      "metadata": {
        "id": "N5AXq8G2VkTq"
      },
      "execution_count": null,
      "outputs": []
    },
    {
      "cell_type": "code",
      "source": [
        "Data = Data.reset_index()"
      ],
      "metadata": {
        "id": "LPJ3R_UAW1bh"
      },
      "execution_count": null,
      "outputs": []
    },
    {
      "cell_type": "code",
      "source": [
        "display(Data)"
      ],
      "metadata": {
        "colab": {
          "base_uri": "https://localhost:8080/",
          "height": 1000
        },
        "id": "9fB79xLp4Nkd",
        "outputId": "6d6ba000-7a55-4092-f3b4-2bff3ba519e4"
      },
      "execution_count": null,
      "outputs": [
        {
          "output_type": "display_data",
          "data": {
            "text/plain": [
              "      index          0\n",
              "0   2019M01  1969169.0\n",
              "1   2019M02  1951842.0\n",
              "2   2019M03  2203647.0\n",
              "3   2019M04  2135867.0\n",
              "4   2019M05  2269401.0\n",
              "5   2019M06  2355497.0\n",
              "6   2019M07  2348056.0\n",
              "7   2019M08  2308374.0\n",
              "8   2019M09  2268741.0\n",
              "9   2019M10  2255817.0\n",
              "10  2019M11  1931553.0\n",
              "11  2019M12  2269335.0\n",
              "12  2020M01  2020157.0\n",
              "13  2020M02  1928437.0\n",
              "14  2020M03   961820.0\n",
              "15  2020M04    25223.0\n",
              "16  2020M05    45432.0\n",
              "17  2020M06   100798.0\n",
              "18  2020M07   262614.0\n",
              "19  2020M08   333429.0\n",
              "20  2020M09   218062.0\n",
              "21  2020M10   196389.0\n",
              "22  2020M11   171020.0\n",
              "23  2020M12   199059.0\n",
              "24  2021M01   180064.0\n",
              "25  2021M02   166614.0\n",
              "26  2021M03   167821.0\n",
              "27  2021M04   154858.0\n",
              "28  2021M05   155158.0\n",
              "29  2021M06   248770.0\n",
              "30  2021M07   422646.0\n",
              "31  2021M08   522456.0\n",
              "32  2021M09   578838.0\n",
              "33  2021M10   772566.0\n",
              "34  2021M11   858229.0\n",
              "35  2021M12  1205058.0\n",
              "36  2022M01   818573.0\n",
              "37  2022M02   829174.0\n",
              "38  2022M03  1080033.0\n",
              "39  2022M04  1131132.0\n",
              "40  2022M05  1321411.0\n",
              "41  2022M06  1479037.0\n",
              "42  2022M07  1565272.0"
            ],
            "text/html": [
              "\n",
              "  <div id=\"df-4d2ff74f-dce1-42b5-8ff0-f8ab362fec49\">\n",
              "    <div class=\"colab-df-container\">\n",
              "      <div>\n",
              "<style scoped>\n",
              "    .dataframe tbody tr th:only-of-type {\n",
              "        vertical-align: middle;\n",
              "    }\n",
              "\n",
              "    .dataframe tbody tr th {\n",
              "        vertical-align: top;\n",
              "    }\n",
              "\n",
              "    .dataframe thead th {\n",
              "        text-align: right;\n",
              "    }\n",
              "</style>\n",
              "<table border=\"1\" class=\"dataframe\">\n",
              "  <thead>\n",
              "    <tr style=\"text-align: right;\">\n",
              "      <th></th>\n",
              "      <th>index</th>\n",
              "      <th>0</th>\n",
              "    </tr>\n",
              "  </thead>\n",
              "  <tbody>\n",
              "    <tr>\n",
              "      <th>0</th>\n",
              "      <td>2019M01</td>\n",
              "      <td>1969169.0</td>\n",
              "    </tr>\n",
              "    <tr>\n",
              "      <th>1</th>\n",
              "      <td>2019M02</td>\n",
              "      <td>1951842.0</td>\n",
              "    </tr>\n",
              "    <tr>\n",
              "      <th>2</th>\n",
              "      <td>2019M03</td>\n",
              "      <td>2203647.0</td>\n",
              "    </tr>\n",
              "    <tr>\n",
              "      <th>3</th>\n",
              "      <td>2019M04</td>\n",
              "      <td>2135867.0</td>\n",
              "    </tr>\n",
              "    <tr>\n",
              "      <th>4</th>\n",
              "      <td>2019M05</td>\n",
              "      <td>2269401.0</td>\n",
              "    </tr>\n",
              "    <tr>\n",
              "      <th>5</th>\n",
              "      <td>2019M06</td>\n",
              "      <td>2355497.0</td>\n",
              "    </tr>\n",
              "    <tr>\n",
              "      <th>6</th>\n",
              "      <td>2019M07</td>\n",
              "      <td>2348056.0</td>\n",
              "    </tr>\n",
              "    <tr>\n",
              "      <th>7</th>\n",
              "      <td>2019M08</td>\n",
              "      <td>2308374.0</td>\n",
              "    </tr>\n",
              "    <tr>\n",
              "      <th>8</th>\n",
              "      <td>2019M09</td>\n",
              "      <td>2268741.0</td>\n",
              "    </tr>\n",
              "    <tr>\n",
              "      <th>9</th>\n",
              "      <td>2019M10</td>\n",
              "      <td>2255817.0</td>\n",
              "    </tr>\n",
              "    <tr>\n",
              "      <th>10</th>\n",
              "      <td>2019M11</td>\n",
              "      <td>1931553.0</td>\n",
              "    </tr>\n",
              "    <tr>\n",
              "      <th>11</th>\n",
              "      <td>2019M12</td>\n",
              "      <td>2269335.0</td>\n",
              "    </tr>\n",
              "    <tr>\n",
              "      <th>12</th>\n",
              "      <td>2020M01</td>\n",
              "      <td>2020157.0</td>\n",
              "    </tr>\n",
              "    <tr>\n",
              "      <th>13</th>\n",
              "      <td>2020M02</td>\n",
              "      <td>1928437.0</td>\n",
              "    </tr>\n",
              "    <tr>\n",
              "      <th>14</th>\n",
              "      <td>2020M03</td>\n",
              "      <td>961820.0</td>\n",
              "    </tr>\n",
              "    <tr>\n",
              "      <th>15</th>\n",
              "      <td>2020M04</td>\n",
              "      <td>25223.0</td>\n",
              "    </tr>\n",
              "    <tr>\n",
              "      <th>16</th>\n",
              "      <td>2020M05</td>\n",
              "      <td>45432.0</td>\n",
              "    </tr>\n",
              "    <tr>\n",
              "      <th>17</th>\n",
              "      <td>2020M06</td>\n",
              "      <td>100798.0</td>\n",
              "    </tr>\n",
              "    <tr>\n",
              "      <th>18</th>\n",
              "      <td>2020M07</td>\n",
              "      <td>262614.0</td>\n",
              "    </tr>\n",
              "    <tr>\n",
              "      <th>19</th>\n",
              "      <td>2020M08</td>\n",
              "      <td>333429.0</td>\n",
              "    </tr>\n",
              "    <tr>\n",
              "      <th>20</th>\n",
              "      <td>2020M09</td>\n",
              "      <td>218062.0</td>\n",
              "    </tr>\n",
              "    <tr>\n",
              "      <th>21</th>\n",
              "      <td>2020M10</td>\n",
              "      <td>196389.0</td>\n",
              "    </tr>\n",
              "    <tr>\n",
              "      <th>22</th>\n",
              "      <td>2020M11</td>\n",
              "      <td>171020.0</td>\n",
              "    </tr>\n",
              "    <tr>\n",
              "      <th>23</th>\n",
              "      <td>2020M12</td>\n",
              "      <td>199059.0</td>\n",
              "    </tr>\n",
              "    <tr>\n",
              "      <th>24</th>\n",
              "      <td>2021M01</td>\n",
              "      <td>180064.0</td>\n",
              "    </tr>\n",
              "    <tr>\n",
              "      <th>25</th>\n",
              "      <td>2021M02</td>\n",
              "      <td>166614.0</td>\n",
              "    </tr>\n",
              "    <tr>\n",
              "      <th>26</th>\n",
              "      <td>2021M03</td>\n",
              "      <td>167821.0</td>\n",
              "    </tr>\n",
              "    <tr>\n",
              "      <th>27</th>\n",
              "      <td>2021M04</td>\n",
              "      <td>154858.0</td>\n",
              "    </tr>\n",
              "    <tr>\n",
              "      <th>28</th>\n",
              "      <td>2021M05</td>\n",
              "      <td>155158.0</td>\n",
              "    </tr>\n",
              "    <tr>\n",
              "      <th>29</th>\n",
              "      <td>2021M06</td>\n",
              "      <td>248770.0</td>\n",
              "    </tr>\n",
              "    <tr>\n",
              "      <th>30</th>\n",
              "      <td>2021M07</td>\n",
              "      <td>422646.0</td>\n",
              "    </tr>\n",
              "    <tr>\n",
              "      <th>31</th>\n",
              "      <td>2021M08</td>\n",
              "      <td>522456.0</td>\n",
              "    </tr>\n",
              "    <tr>\n",
              "      <th>32</th>\n",
              "      <td>2021M09</td>\n",
              "      <td>578838.0</td>\n",
              "    </tr>\n",
              "    <tr>\n",
              "      <th>33</th>\n",
              "      <td>2021M10</td>\n",
              "      <td>772566.0</td>\n",
              "    </tr>\n",
              "    <tr>\n",
              "      <th>34</th>\n",
              "      <td>2021M11</td>\n",
              "      <td>858229.0</td>\n",
              "    </tr>\n",
              "    <tr>\n",
              "      <th>35</th>\n",
              "      <td>2021M12</td>\n",
              "      <td>1205058.0</td>\n",
              "    </tr>\n",
              "    <tr>\n",
              "      <th>36</th>\n",
              "      <td>2022M01</td>\n",
              "      <td>818573.0</td>\n",
              "    </tr>\n",
              "    <tr>\n",
              "      <th>37</th>\n",
              "      <td>2022M02</td>\n",
              "      <td>829174.0</td>\n",
              "    </tr>\n",
              "    <tr>\n",
              "      <th>38</th>\n",
              "      <td>2022M03</td>\n",
              "      <td>1080033.0</td>\n",
              "    </tr>\n",
              "    <tr>\n",
              "      <th>39</th>\n",
              "      <td>2022M04</td>\n",
              "      <td>1131132.0</td>\n",
              "    </tr>\n",
              "    <tr>\n",
              "      <th>40</th>\n",
              "      <td>2022M05</td>\n",
              "      <td>1321411.0</td>\n",
              "    </tr>\n",
              "    <tr>\n",
              "      <th>41</th>\n",
              "      <td>2022M06</td>\n",
              "      <td>1479037.0</td>\n",
              "    </tr>\n",
              "    <tr>\n",
              "      <th>42</th>\n",
              "      <td>2022M07</td>\n",
              "      <td>1565272.0</td>\n",
              "    </tr>\n",
              "  </tbody>\n",
              "</table>\n",
              "</div>\n",
              "      <button class=\"colab-df-convert\" onclick=\"convertToInteractive('df-4d2ff74f-dce1-42b5-8ff0-f8ab362fec49')\"\n",
              "              title=\"Convert this dataframe to an interactive table.\"\n",
              "              style=\"display:none;\">\n",
              "        \n",
              "  <svg xmlns=\"http://www.w3.org/2000/svg\" height=\"24px\"viewBox=\"0 0 24 24\"\n",
              "       width=\"24px\">\n",
              "    <path d=\"M0 0h24v24H0V0z\" fill=\"none\"/>\n",
              "    <path d=\"M18.56 5.44l.94 2.06.94-2.06 2.06-.94-2.06-.94-.94-2.06-.94 2.06-2.06.94zm-11 1L8.5 8.5l.94-2.06 2.06-.94-2.06-.94L8.5 2.5l-.94 2.06-2.06.94zm10 10l.94 2.06.94-2.06 2.06-.94-2.06-.94-.94-2.06-.94 2.06-2.06.94z\"/><path d=\"M17.41 7.96l-1.37-1.37c-.4-.4-.92-.59-1.43-.59-.52 0-1.04.2-1.43.59L10.3 9.45l-7.72 7.72c-.78.78-.78 2.05 0 2.83L4 21.41c.39.39.9.59 1.41.59.51 0 1.02-.2 1.41-.59l7.78-7.78 2.81-2.81c.8-.78.8-2.07 0-2.86zM5.41 20L4 18.59l7.72-7.72 1.47 1.35L5.41 20z\"/>\n",
              "  </svg>\n",
              "      </button>\n",
              "      \n",
              "  <style>\n",
              "    .colab-df-container {\n",
              "      display:flex;\n",
              "      flex-wrap:wrap;\n",
              "      gap: 12px;\n",
              "    }\n",
              "\n",
              "    .colab-df-convert {\n",
              "      background-color: #E8F0FE;\n",
              "      border: none;\n",
              "      border-radius: 50%;\n",
              "      cursor: pointer;\n",
              "      display: none;\n",
              "      fill: #1967D2;\n",
              "      height: 32px;\n",
              "      padding: 0 0 0 0;\n",
              "      width: 32px;\n",
              "    }\n",
              "\n",
              "    .colab-df-convert:hover {\n",
              "      background-color: #E2EBFA;\n",
              "      box-shadow: 0px 1px 2px rgba(60, 64, 67, 0.3), 0px 1px 3px 1px rgba(60, 64, 67, 0.15);\n",
              "      fill: #174EA6;\n",
              "    }\n",
              "\n",
              "    [theme=dark] .colab-df-convert {\n",
              "      background-color: #3B4455;\n",
              "      fill: #D2E3FC;\n",
              "    }\n",
              "\n",
              "    [theme=dark] .colab-df-convert:hover {\n",
              "      background-color: #434B5C;\n",
              "      box-shadow: 0px 1px 3px 1px rgba(0, 0, 0, 0.15);\n",
              "      filter: drop-shadow(0px 1px 2px rgba(0, 0, 0, 0.3));\n",
              "      fill: #FFFFFF;\n",
              "    }\n",
              "  </style>\n",
              "\n",
              "      <script>\n",
              "        const buttonEl =\n",
              "          document.querySelector('#df-4d2ff74f-dce1-42b5-8ff0-f8ab362fec49 button.colab-df-convert');\n",
              "        buttonEl.style.display =\n",
              "          google.colab.kernel.accessAllowed ? 'block' : 'none';\n",
              "\n",
              "        async function convertToInteractive(key) {\n",
              "          const element = document.querySelector('#df-4d2ff74f-dce1-42b5-8ff0-f8ab362fec49');\n",
              "          const dataTable =\n",
              "            await google.colab.kernel.invokeFunction('convertToInteractive',\n",
              "                                                     [key], {});\n",
              "          if (!dataTable) return;\n",
              "\n",
              "          const docLinkHtml = 'Like what you see? Visit the ' +\n",
              "            '<a target=\"_blank\" href=https://colab.research.google.com/notebooks/data_table.ipynb>data table notebook</a>'\n",
              "            + ' to learn more about interactive tables.';\n",
              "          element.innerHTML = '';\n",
              "          dataTable['output_type'] = 'display_data';\n",
              "          await google.colab.output.renderOutput(dataTable, element);\n",
              "          const docLink = document.createElement('div');\n",
              "          docLink.innerHTML = docLinkHtml;\n",
              "          element.appendChild(docLink);\n",
              "        }\n",
              "      </script>\n",
              "    </div>\n",
              "  </div>\n",
              "  "
            ]
          },
          "metadata": {}
        }
      ]
    },
    {
      "cell_type": "code",
      "source": [
        "Data.columns = ['Date', 'All Passengers']"
      ],
      "metadata": {
        "id": "mQW7lM8B_C_Q"
      },
      "execution_count": null,
      "outputs": []
    },
    {
      "cell_type": "code",
      "source": [
        "Data['Year'] = Data['Date'].astype(str).str[0:4]"
      ],
      "metadata": {
        "id": "GWFYOkQP14I0"
      },
      "execution_count": null,
      "outputs": []
    },
    {
      "cell_type": "code",
      "source": [
        "Data['Month'] = Data['Date'].astype(str).str[5:]"
      ],
      "metadata": {
        "id": "z3B_-pZXooaY"
      },
      "execution_count": null,
      "outputs": []
    },
    {
      "cell_type": "code",
      "source": [
        "\n",
        "look_up = {'01': 'Jan', '02': 'Feb', '03': 'Mar', '04': 'Apr', '05': 'May',\n",
        "            '06': 'Jun', '07': 'Jul', '08': 'Aug', '09': 'Sep', '10': 'Oct', '11': 'Nov', '12': 'Dec'}"
      ],
      "metadata": {
        "id": "ISnMWoqppHQf"
      },
      "execution_count": null,
      "outputs": []
    },
    {
      "cell_type": "code",
      "source": [
        "Data['Month Name'] = Data['Month'].apply(lambda x: look_up[x])"
      ],
      "metadata": {
        "id": "ZzKAV97ap0vu"
      },
      "execution_count": null,
      "outputs": []
    },
    {
      "cell_type": "code",
      "source": [
        "Data = Data.drop(['Date'], axis = 1)"
      ],
      "metadata": {
        "id": "xlyJ-n90rcK0"
      },
      "execution_count": null,
      "outputs": []
    },
    {
      "cell_type": "code",
      "source": [
        "Data['Data'] = Data['Month Name'] + \" \" + Data['Year']"
      ],
      "metadata": {
        "id": "mBovpf12vnCk"
      },
      "execution_count": null,
      "outputs": []
    },
    {
      "cell_type": "code",
      "source": [
        "print(Data)"
      ],
      "metadata": {
        "colab": {
          "base_uri": "https://localhost:8080/"
        },
        "id": "QazxhCGQ6jXV",
        "outputId": "fbbe96f0-251f-4f2d-eebd-4c772ea2a368"
      },
      "execution_count": null,
      "outputs": [
        {
          "output_type": "stream",
          "name": "stdout",
          "text": [
            "    All Passengers  Year Month Month Name      Data\n",
            "0        1969169.0  2019    01        Jan  Jan 2019\n",
            "1        1951842.0  2019    02        Feb  Feb 2019\n",
            "2        2203647.0  2019    03        Mar  Mar 2019\n",
            "3        2135867.0  2019    04        Apr  Apr 2019\n",
            "4        2269401.0  2019    05        May  May 2019\n",
            "5        2355497.0  2019    06        Jun  Jun 2019\n",
            "6        2348056.0  2019    07        Jul  Jul 2019\n",
            "7        2308374.0  2019    08        Aug  Aug 2019\n",
            "8        2268741.0  2019    09        Sep  Sep 2019\n",
            "9        2255817.0  2019    10        Oct  Oct 2019\n",
            "10       1931553.0  2019    11        Nov  Nov 2019\n",
            "11       2269335.0  2019    12        Dec  Dec 2019\n",
            "12       2020157.0  2020    01        Jan  Jan 2020\n",
            "13       1928437.0  2020    02        Feb  Feb 2020\n",
            "14        961820.0  2020    03        Mar  Mar 2020\n",
            "15         25223.0  2020    04        Apr  Apr 2020\n",
            "16         45432.0  2020    05        May  May 2020\n",
            "17        100798.0  2020    06        Jun  Jun 2020\n",
            "18        262614.0  2020    07        Jul  Jul 2020\n",
            "19        333429.0  2020    08        Aug  Aug 2020\n",
            "20        218062.0  2020    09        Sep  Sep 2020\n",
            "21        196389.0  2020    10        Oct  Oct 2020\n",
            "22        171020.0  2020    11        Nov  Nov 2020\n",
            "23        199059.0  2020    12        Dec  Dec 2020\n",
            "24        180064.0  2021    01        Jan  Jan 2021\n",
            "25        166614.0  2021    02        Feb  Feb 2021\n",
            "26        167821.0  2021    03        Mar  Mar 2021\n",
            "27        154858.0  2021    04        Apr  Apr 2021\n",
            "28        155158.0  2021    05        May  May 2021\n",
            "29        248770.0  2021    06        Jun  Jun 2021\n",
            "30        422646.0  2021    07        Jul  Jul 2021\n",
            "31        522456.0  2021    08        Aug  Aug 2021\n",
            "32        578838.0  2021    09        Sep  Sep 2021\n",
            "33        772566.0  2021    10        Oct  Oct 2021\n",
            "34        858229.0  2021    11        Nov  Nov 2021\n",
            "35       1205058.0  2021    12        Dec  Dec 2021\n",
            "36        818573.0  2022    01        Jan  Jan 2022\n",
            "37        829174.0  2022    02        Feb  Feb 2022\n",
            "38       1080033.0  2022    03        Mar  Mar 2022\n",
            "39       1131132.0  2022    04        Apr  Apr 2022\n",
            "40       1321411.0  2022    05        May  May 2022\n",
            "41       1479037.0  2022    06        Jun  Jun 2022\n",
            "42       1565272.0  2022    07        Jul  Jul 2022\n"
          ]
        }
      ]
    },
    {
      "cell_type": "code",
      "source": [
        "Data = Data[['Month', 'Month Name','Year','Data','All Passengers']]"
      ],
      "metadata": {
        "id": "zwFF32apwAq1",
        "colab": {
          "base_uri": "https://localhost:8080/",
          "height": 323
        },
        "outputId": "9b66f2ed-b9b7-4a15-9bff-aa8516c70305"
      },
      "execution_count": null,
      "outputs": [
        {
          "output_type": "error",
          "ename": "KeyError",
          "evalue": "ignored",
          "traceback": [
            "\u001b[0;31m---------------------------------------------------------------------------\u001b[0m",
            "\u001b[0;31mKeyError\u001b[0m                                  Traceback (most recent call last)",
            "\u001b[0;32m<ipython-input-51-c1ead2a64edc>\u001b[0m in \u001b[0;36m<module>\u001b[0;34m\u001b[0m\n\u001b[0;32m----> 1\u001b[0;31m \u001b[0mData\u001b[0m \u001b[0;34m=\u001b[0m \u001b[0mData\u001b[0m\u001b[0;34m[\u001b[0m\u001b[0;34m[\u001b[0m\u001b[0;34m'Month'\u001b[0m\u001b[0;34m,\u001b[0m \u001b[0;34m'Month Name'\u001b[0m\u001b[0;34m,\u001b[0m\u001b[0;34m'Year'\u001b[0m\u001b[0;34m,\u001b[0m\u001b[0;34m'Data'\u001b[0m\u001b[0;34m,\u001b[0m\u001b[0;34m'All Passengers'\u001b[0m\u001b[0;34m]\u001b[0m\u001b[0;34m]\u001b[0m\u001b[0;34m\u001b[0m\u001b[0;34m\u001b[0m\u001b[0m\n\u001b[0m",
            "\u001b[0;32m/usr/local/lib/python3.8/dist-packages/pandas/core/frame.py\u001b[0m in \u001b[0;36m__getitem__\u001b[0;34m(self, key)\u001b[0m\n\u001b[1;32m   3462\u001b[0m             \u001b[0;32mif\u001b[0m \u001b[0mis_iterator\u001b[0m\u001b[0;34m(\u001b[0m\u001b[0mkey\u001b[0m\u001b[0;34m)\u001b[0m\u001b[0;34m:\u001b[0m\u001b[0;34m\u001b[0m\u001b[0;34m\u001b[0m\u001b[0m\n\u001b[1;32m   3463\u001b[0m                 \u001b[0mkey\u001b[0m \u001b[0;34m=\u001b[0m \u001b[0mlist\u001b[0m\u001b[0;34m(\u001b[0m\u001b[0mkey\u001b[0m\u001b[0;34m)\u001b[0m\u001b[0;34m\u001b[0m\u001b[0;34m\u001b[0m\u001b[0m\n\u001b[0;32m-> 3464\u001b[0;31m             \u001b[0mindexer\u001b[0m \u001b[0;34m=\u001b[0m \u001b[0mself\u001b[0m\u001b[0;34m.\u001b[0m\u001b[0mloc\u001b[0m\u001b[0;34m.\u001b[0m\u001b[0m_get_listlike_indexer\u001b[0m\u001b[0;34m(\u001b[0m\u001b[0mkey\u001b[0m\u001b[0;34m,\u001b[0m \u001b[0maxis\u001b[0m\u001b[0;34m=\u001b[0m\u001b[0;36m1\u001b[0m\u001b[0;34m)\u001b[0m\u001b[0;34m[\u001b[0m\u001b[0;36m1\u001b[0m\u001b[0;34m]\u001b[0m\u001b[0;34m\u001b[0m\u001b[0;34m\u001b[0m\u001b[0m\n\u001b[0m\u001b[1;32m   3465\u001b[0m \u001b[0;34m\u001b[0m\u001b[0m\n\u001b[1;32m   3466\u001b[0m         \u001b[0;31m# take() does not accept boolean indexers\u001b[0m\u001b[0;34m\u001b[0m\u001b[0;34m\u001b[0m\u001b[0;34m\u001b[0m\u001b[0m\n",
            "\u001b[0;32m/usr/local/lib/python3.8/dist-packages/pandas/core/indexing.py\u001b[0m in \u001b[0;36m_get_listlike_indexer\u001b[0;34m(self, key, axis)\u001b[0m\n\u001b[1;32m   1312\u001b[0m             \u001b[0mkeyarr\u001b[0m\u001b[0;34m,\u001b[0m \u001b[0mindexer\u001b[0m\u001b[0;34m,\u001b[0m \u001b[0mnew_indexer\u001b[0m \u001b[0;34m=\u001b[0m \u001b[0max\u001b[0m\u001b[0;34m.\u001b[0m\u001b[0m_reindex_non_unique\u001b[0m\u001b[0;34m(\u001b[0m\u001b[0mkeyarr\u001b[0m\u001b[0;34m)\u001b[0m\u001b[0;34m\u001b[0m\u001b[0;34m\u001b[0m\u001b[0m\n\u001b[1;32m   1313\u001b[0m \u001b[0;34m\u001b[0m\u001b[0m\n\u001b[0;32m-> 1314\u001b[0;31m         \u001b[0mself\u001b[0m\u001b[0;34m.\u001b[0m\u001b[0m_validate_read_indexer\u001b[0m\u001b[0;34m(\u001b[0m\u001b[0mkeyarr\u001b[0m\u001b[0;34m,\u001b[0m \u001b[0mindexer\u001b[0m\u001b[0;34m,\u001b[0m \u001b[0maxis\u001b[0m\u001b[0;34m)\u001b[0m\u001b[0;34m\u001b[0m\u001b[0;34m\u001b[0m\u001b[0m\n\u001b[0m\u001b[1;32m   1315\u001b[0m \u001b[0;34m\u001b[0m\u001b[0m\n\u001b[1;32m   1316\u001b[0m         if needs_i8_conversion(ax.dtype) or isinstance(\n",
            "\u001b[0;32m/usr/local/lib/python3.8/dist-packages/pandas/core/indexing.py\u001b[0m in \u001b[0;36m_validate_read_indexer\u001b[0;34m(self, key, indexer, axis)\u001b[0m\n\u001b[1;32m   1375\u001b[0m \u001b[0;34m\u001b[0m\u001b[0m\n\u001b[1;32m   1376\u001b[0m             \u001b[0mnot_found\u001b[0m \u001b[0;34m=\u001b[0m \u001b[0mlist\u001b[0m\u001b[0;34m(\u001b[0m\u001b[0mensure_index\u001b[0m\u001b[0;34m(\u001b[0m\u001b[0mkey\u001b[0m\u001b[0;34m)\u001b[0m\u001b[0;34m[\u001b[0m\u001b[0mmissing_mask\u001b[0m\u001b[0;34m.\u001b[0m\u001b[0mnonzero\u001b[0m\u001b[0;34m(\u001b[0m\u001b[0;34m)\u001b[0m\u001b[0;34m[\u001b[0m\u001b[0;36m0\u001b[0m\u001b[0;34m]\u001b[0m\u001b[0;34m]\u001b[0m\u001b[0;34m.\u001b[0m\u001b[0munique\u001b[0m\u001b[0;34m(\u001b[0m\u001b[0;34m)\u001b[0m\u001b[0;34m)\u001b[0m\u001b[0;34m\u001b[0m\u001b[0;34m\u001b[0m\u001b[0m\n\u001b[0;32m-> 1377\u001b[0;31m             \u001b[0;32mraise\u001b[0m \u001b[0mKeyError\u001b[0m\u001b[0;34m(\u001b[0m\u001b[0;34mf\"{not_found} not in index\"\u001b[0m\u001b[0;34m)\u001b[0m\u001b[0;34m\u001b[0m\u001b[0;34m\u001b[0m\u001b[0m\n\u001b[0m\u001b[1;32m   1378\u001b[0m \u001b[0;34m\u001b[0m\u001b[0m\n\u001b[1;32m   1379\u001b[0m \u001b[0;34m\u001b[0m\u001b[0m\n",
            "\u001b[0;31mKeyError\u001b[0m: \"['Data'] not in index\""
          ]
        }
      ]
    },
    {
      "cell_type": "code",
      "source": [
        "Data.loc[len(Data.index)] = ['08', 'Aug', '2022', 'Aug 2022', 1435341]\n",
        "Data.loc[len(Data.index)] = ['09', 'Sep', '2022', 'Sep 2022', 1475732]"
      ],
      "metadata": {
        "id": "Evpt6qibDfFC"
      },
      "execution_count": null,
      "outputs": []
    },
    {
      "cell_type": "code",
      "source": [
        "# display(Data)"
      ],
      "metadata": {
        "id": "AtNIVhrqDrN9"
      },
      "execution_count": null,
      "outputs": []
    },
    {
      "cell_type": "code",
      "source": [
        "Finland_Airports = Data.groupby('Year').aggregate('sum')\n",
        "Finland_Airports.insert(0, 'Name', 'Finland')\n",
        "display(Finland_Airports)"
      ],
      "metadata": {
        "id": "OITQBxea8Fnh",
        "colab": {
          "base_uri": "https://localhost:8080/",
          "height": 269
        },
        "outputId": "e79b4b29-fa3a-480e-b7ce-a101a2a8d83e"
      },
      "execution_count": null,
      "outputs": [
        {
          "output_type": "display_data",
          "data": {
            "text/plain": [
              "         Name All Passengers                     Month  \\\n",
              "Year                                                     \n",
              "2019  Finland     26267299.0  010203040506070809101112   \n",
              "2020  Finland      6462440.0  010203040506070809101112   \n",
              "2021  Finland      5433078.0  010203040506070809101112   \n",
              "2022  Finland      8224632.0            01020304050607   \n",
              "Aug   Finland             08                      2022   \n",
              "Sep   Finland             09                      2022   \n",
              "\n",
              "                                Month Name  \\\n",
              "Year                                         \n",
              "2019  JanFebMarAprMayJunJulAugSepOctNovDec   \n",
              "2020  JanFebMarAprMayJunJulAugSepOctNovDec   \n",
              "2021  JanFebMarAprMayJunJulAugSepOctNovDec   \n",
              "2022                 JanFebMarAprMayJunJul   \n",
              "Aug                               Aug 2022   \n",
              "Sep                               Sep 2022   \n",
              "\n",
              "                                                   Data  \n",
              "Year                                                     \n",
              "2019  Jan 2019Feb 2019Mar 2019Apr 2019May 2019Jun 20...  \n",
              "2020  Jan 2020Feb 2020Mar 2020Apr 2020May 2020Jun 20...  \n",
              "2021  Jan 2021Feb 2021Mar 2021Apr 2021May 2021Jun 20...  \n",
              "2022  Jan 2022Feb 2022Mar 2022Apr 2022May 2022Jun 20...  \n",
              "Aug                                             1435341  \n",
              "Sep                                             1475732  "
            ],
            "text/html": [
              "\n",
              "  <div id=\"df-314280af-1dc3-4fc0-b6bc-151299c9e185\">\n",
              "    <div class=\"colab-df-container\">\n",
              "      <div>\n",
              "<style scoped>\n",
              "    .dataframe tbody tr th:only-of-type {\n",
              "        vertical-align: middle;\n",
              "    }\n",
              "\n",
              "    .dataframe tbody tr th {\n",
              "        vertical-align: top;\n",
              "    }\n",
              "\n",
              "    .dataframe thead th {\n",
              "        text-align: right;\n",
              "    }\n",
              "</style>\n",
              "<table border=\"1\" class=\"dataframe\">\n",
              "  <thead>\n",
              "    <tr style=\"text-align: right;\">\n",
              "      <th></th>\n",
              "      <th>Name</th>\n",
              "      <th>All Passengers</th>\n",
              "      <th>Month</th>\n",
              "      <th>Month Name</th>\n",
              "      <th>Data</th>\n",
              "    </tr>\n",
              "    <tr>\n",
              "      <th>Year</th>\n",
              "      <th></th>\n",
              "      <th></th>\n",
              "      <th></th>\n",
              "      <th></th>\n",
              "      <th></th>\n",
              "    </tr>\n",
              "  </thead>\n",
              "  <tbody>\n",
              "    <tr>\n",
              "      <th>2019</th>\n",
              "      <td>Finland</td>\n",
              "      <td>26267299.0</td>\n",
              "      <td>010203040506070809101112</td>\n",
              "      <td>JanFebMarAprMayJunJulAugSepOctNovDec</td>\n",
              "      <td>Jan 2019Feb 2019Mar 2019Apr 2019May 2019Jun 20...</td>\n",
              "    </tr>\n",
              "    <tr>\n",
              "      <th>2020</th>\n",
              "      <td>Finland</td>\n",
              "      <td>6462440.0</td>\n",
              "      <td>010203040506070809101112</td>\n",
              "      <td>JanFebMarAprMayJunJulAugSepOctNovDec</td>\n",
              "      <td>Jan 2020Feb 2020Mar 2020Apr 2020May 2020Jun 20...</td>\n",
              "    </tr>\n",
              "    <tr>\n",
              "      <th>2021</th>\n",
              "      <td>Finland</td>\n",
              "      <td>5433078.0</td>\n",
              "      <td>010203040506070809101112</td>\n",
              "      <td>JanFebMarAprMayJunJulAugSepOctNovDec</td>\n",
              "      <td>Jan 2021Feb 2021Mar 2021Apr 2021May 2021Jun 20...</td>\n",
              "    </tr>\n",
              "    <tr>\n",
              "      <th>2022</th>\n",
              "      <td>Finland</td>\n",
              "      <td>8224632.0</td>\n",
              "      <td>01020304050607</td>\n",
              "      <td>JanFebMarAprMayJunJul</td>\n",
              "      <td>Jan 2022Feb 2022Mar 2022Apr 2022May 2022Jun 20...</td>\n",
              "    </tr>\n",
              "    <tr>\n",
              "      <th>Aug</th>\n",
              "      <td>Finland</td>\n",
              "      <td>08</td>\n",
              "      <td>2022</td>\n",
              "      <td>Aug 2022</td>\n",
              "      <td>1435341</td>\n",
              "    </tr>\n",
              "    <tr>\n",
              "      <th>Sep</th>\n",
              "      <td>Finland</td>\n",
              "      <td>09</td>\n",
              "      <td>2022</td>\n",
              "      <td>Sep 2022</td>\n",
              "      <td>1475732</td>\n",
              "    </tr>\n",
              "  </tbody>\n",
              "</table>\n",
              "</div>\n",
              "      <button class=\"colab-df-convert\" onclick=\"convertToInteractive('df-314280af-1dc3-4fc0-b6bc-151299c9e185')\"\n",
              "              title=\"Convert this dataframe to an interactive table.\"\n",
              "              style=\"display:none;\">\n",
              "        \n",
              "  <svg xmlns=\"http://www.w3.org/2000/svg\" height=\"24px\"viewBox=\"0 0 24 24\"\n",
              "       width=\"24px\">\n",
              "    <path d=\"M0 0h24v24H0V0z\" fill=\"none\"/>\n",
              "    <path d=\"M18.56 5.44l.94 2.06.94-2.06 2.06-.94-2.06-.94-.94-2.06-.94 2.06-2.06.94zm-11 1L8.5 8.5l.94-2.06 2.06-.94-2.06-.94L8.5 2.5l-.94 2.06-2.06.94zm10 10l.94 2.06.94-2.06 2.06-.94-2.06-.94-.94-2.06-.94 2.06-2.06.94z\"/><path d=\"M17.41 7.96l-1.37-1.37c-.4-.4-.92-.59-1.43-.59-.52 0-1.04.2-1.43.59L10.3 9.45l-7.72 7.72c-.78.78-.78 2.05 0 2.83L4 21.41c.39.39.9.59 1.41.59.51 0 1.02-.2 1.41-.59l7.78-7.78 2.81-2.81c.8-.78.8-2.07 0-2.86zM5.41 20L4 18.59l7.72-7.72 1.47 1.35L5.41 20z\"/>\n",
              "  </svg>\n",
              "      </button>\n",
              "      \n",
              "  <style>\n",
              "    .colab-df-container {\n",
              "      display:flex;\n",
              "      flex-wrap:wrap;\n",
              "      gap: 12px;\n",
              "    }\n",
              "\n",
              "    .colab-df-convert {\n",
              "      background-color: #E8F0FE;\n",
              "      border: none;\n",
              "      border-radius: 50%;\n",
              "      cursor: pointer;\n",
              "      display: none;\n",
              "      fill: #1967D2;\n",
              "      height: 32px;\n",
              "      padding: 0 0 0 0;\n",
              "      width: 32px;\n",
              "    }\n",
              "\n",
              "    .colab-df-convert:hover {\n",
              "      background-color: #E2EBFA;\n",
              "      box-shadow: 0px 1px 2px rgba(60, 64, 67, 0.3), 0px 1px 3px 1px rgba(60, 64, 67, 0.15);\n",
              "      fill: #174EA6;\n",
              "    }\n",
              "\n",
              "    [theme=dark] .colab-df-convert {\n",
              "      background-color: #3B4455;\n",
              "      fill: #D2E3FC;\n",
              "    }\n",
              "\n",
              "    [theme=dark] .colab-df-convert:hover {\n",
              "      background-color: #434B5C;\n",
              "      box-shadow: 0px 1px 3px 1px rgba(0, 0, 0, 0.15);\n",
              "      filter: drop-shadow(0px 1px 2px rgba(0, 0, 0, 0.3));\n",
              "      fill: #FFFFFF;\n",
              "    }\n",
              "  </style>\n",
              "\n",
              "      <script>\n",
              "        const buttonEl =\n",
              "          document.querySelector('#df-314280af-1dc3-4fc0-b6bc-151299c9e185 button.colab-df-convert');\n",
              "        buttonEl.style.display =\n",
              "          google.colab.kernel.accessAllowed ? 'block' : 'none';\n",
              "\n",
              "        async function convertToInteractive(key) {\n",
              "          const element = document.querySelector('#df-314280af-1dc3-4fc0-b6bc-151299c9e185');\n",
              "          const dataTable =\n",
              "            await google.colab.kernel.invokeFunction('convertToInteractive',\n",
              "                                                     [key], {});\n",
              "          if (!dataTable) return;\n",
              "\n",
              "          const docLinkHtml = 'Like what you see? Visit the ' +\n",
              "            '<a target=\"_blank\" href=https://colab.research.google.com/notebooks/data_table.ipynb>data table notebook</a>'\n",
              "            + ' to learn more about interactive tables.';\n",
              "          element.innerHTML = '';\n",
              "          dataTable['output_type'] = 'display_data';\n",
              "          await google.colab.output.renderOutput(dataTable, element);\n",
              "          const docLink = document.createElement('div');\n",
              "          docLink.innerHTML = docLinkHtml;\n",
              "          element.appendChild(docLink);\n",
              "        }\n",
              "      </script>\n",
              "    </div>\n",
              "  </div>\n",
              "  "
            ]
          },
          "metadata": {}
        }
      ]
    },
    {
      "cell_type": "code",
      "source": [
        "Finland_Airports = Finland_Airports.rename(columns={'Year': 'Date'})\n"
      ],
      "metadata": {
        "id": "V-lYgapAiZKB"
      },
      "execution_count": null,
      "outputs": []
    },
    {
      "cell_type": "code",
      "source": [
        "# display(Finland_Airports)"
      ],
      "metadata": {
        "id": "SYVVL3yV87-N"
      },
      "execution_count": null,
      "outputs": []
    },
    {
      "cell_type": "code",
      "source": [
        "Finland_Airports.to_csv('Finland_Airports.csv', index=True)\n"
      ],
      "metadata": {
        "id": "6fTmwPbOHeX-"
      },
      "execution_count": null,
      "outputs": []
    },
    {
      "cell_type": "code",
      "source": [
        "Netherlands_Airports = Netherlands_Airports.drop(['Cargo', 'Mail' ,'Scheduled' , 'Commercial air traffic','Unnamed: 1', ], axis = 1)"
      ],
      "metadata": {
        "id": "bnU84GUic5mf"
      },
      "execution_count": null,
      "outputs": []
    },
    {
      "cell_type": "code",
      "source": [
        "row2016 = pd.DataFrame({'Year':'2016', 'Aircraft movements': '0', 'Local flights':'0', 'Passengers':70279566}, index=[0])\n",
        "row2017 = pd.DataFrame({'Year':'2017', 'Aircraft movements': '0', 'Local flights':'0', 'Passengers':76203629}, index=[1])\n",
        "\n",
        "Netherlands_Airports = pd.concat([row2016,Netherlands_Airports.loc[:]]).reset_index(drop=True)\n",
        "Netherlands_Airports = pd.concat([row2017,Netherlands_Airports.loc[:]]).reset_index(drop=True)\n",
        "\n",
        "Netherlands_Airports = Netherlands_Airports.rename(columns={'Year': 'Date'})\n"
      ],
      "metadata": {
        "id": "3PGu-m0oAMg2"
      },
      "execution_count": null,
      "outputs": []
    },
    {
      "cell_type": "code",
      "source": [
        "Netherlands_Airports.reset_index(drop=True)"
      ],
      "metadata": {
        "id": "8eJCnR4D_222"
      },
      "execution_count": null,
      "outputs": []
    },
    {
      "cell_type": "code",
      "source": [
        "Netherlands_Airports_summary = Netherlands_Airports.iloc[[0,1,2,3,16,29]]\n",
        "Netherlands_Airports_summary.insert(0, 'Name', 'Netherlands')\n",
        "Netherlands_Airports_summary = Netherlands_Airports_summary.reset_index()\n",
        "\n"
      ],
      "metadata": {
        "id": "ZlLU36RLD3Qp"
      },
      "execution_count": null,
      "outputs": []
    },
    {
      "cell_type": "code",
      "source": [
        "Netherlands_Airports_summary = Netherlands_Airports_summary.replace(['2020*'], '2020')\n",
        "Netherlands_Airports_summary = Netherlands_Airports_summary.replace(['2021*'], '2021')\n",
        "Netherlands_Airports_summary = Netherlands_Airports_summary.reset_index()\n",
        "\n",
        "print(Netherlands_Airports_summary)"
      ],
      "metadata": {
        "id": "Eh9CBklSWQBj"
      },
      "execution_count": null,
      "outputs": []
    },
    {
      "cell_type": "code",
      "source": [
        "# display(Netherlands_Airports_summary)"
      ],
      "metadata": {
        "id": "MdDpD-sgWbRn"
      },
      "execution_count": null,
      "outputs": []
    },
    {
      "cell_type": "code",
      "source": [
        "Netherlands_Airports_summary.to_csv('Netherlands_Airports_summary.csv', index=False)"
      ],
      "metadata": {
        "id": "R_dSwBzSG43N"
      },
      "execution_count": null,
      "outputs": []
    },
    {
      "cell_type": "code",
      "source": [
        "OilandGasNetherlands[\"Date\"] = pd.to_datetime(OilandGasNetherlands[\"Date\"])"
      ],
      "metadata": {
        "id": "FQ0IGHh3wuJn"
      },
      "execution_count": null,
      "outputs": []
    },
    {
      "cell_type": "code",
      "source": [
        "OilandGasNetherlands = OilandGasNetherlands.drop(columns=['Super 95 (No Tax)', 'Gas oil (No Tax)', 'Heating gas (No Tax)'])"
      ],
      "metadata": {
        "id": "Wglq0vXiw1Ts"
      },
      "execution_count": null,
      "outputs": []
    },
    {
      "cell_type": "code",
      "source": [
        "OilandGasNetherlands.insert(0, 'Name', 'Netherlands')"
      ],
      "metadata": {
        "id": "XH7r-OS6xrW3"
      },
      "execution_count": null,
      "outputs": []
    },
    {
      "cell_type": "code",
      "source": [
        "# display(OilandGasNetherlands)"
      ],
      "metadata": {
        "id": "W4wxcHjYxD8y"
      },
      "execution_count": null,
      "outputs": []
    },
    {
      "cell_type": "code",
      "source": [
        "OilandGasNetherlands.to_csv('OilandGasNetherlands.csv', index=False)"
      ],
      "metadata": {
        "id": "YoL6ri7LxTol"
      },
      "execution_count": null,
      "outputs": []
    },
    {
      "cell_type": "code",
      "source": [
        "OilandGasData = OilandGasNetherlands.append(OilandGasFinland)"
      ],
      "metadata": {
        "id": "79-oSWexzC9C"
      },
      "execution_count": null,
      "outputs": []
    },
    {
      "cell_type": "code",
      "source": [
        "OilandGasData[\"Date\"] = pd.to_datetime(OilandGasData[\"Date\"])"
      ],
      "metadata": {
        "id": "Muc42k2tLUKK"
      },
      "execution_count": null,
      "outputs": []
    },
    {
      "cell_type": "code",
      "source": [
        "OilandGasData.to_csv('OilAndGas.csv', index=False)"
      ],
      "metadata": {
        "id": "bX-Pf-vC4njd"
      },
      "execution_count": null,
      "outputs": []
    },
    {
      "cell_type": "code",
      "source": [
        "# display(OilandGasData)"
      ],
      "metadata": {
        "id": "fJNYNJJd76__"
      },
      "execution_count": null,
      "outputs": []
    },
    {
      "cell_type": "code",
      "source": [
        "  \n",
        "# initialize list elements\n",
        "countries = ['Finland','Netherlands']\n",
        "latitute = ['61.9241','52.2130']\n",
        "longitude = ['25.7482','5.2794']\n",
        "\n",
        "data = {'Name': ['Finland','Netherlands'],\n",
        "        'Latitude': [61.9241,52.2130],\n",
        "        'Longitude': [25.7482,5.2794]}\n",
        "  \n",
        "countries_df = pd.DataFrame(data)\n",
        "\n",
        "print(countries_df)\n",
        "\n"
      ],
      "metadata": {
        "id": "MfiZVw1-3k-a"
      },
      "execution_count": null,
      "outputs": []
    },
    {
      "cell_type": "code",
      "source": [
        "countries_df.to_csv('countries_df.csv', index=False)"
      ],
      "metadata": {
        "id": "Cz3K9Y5F3xeI"
      },
      "execution_count": null,
      "outputs": []
    },
    {
      "cell_type": "code",
      "source": [
        "display(countries_df)"
      ],
      "metadata": {
        "id": "Uxr0bQ_golts"
      },
      "execution_count": null,
      "outputs": []
    },
    {
      "cell_type": "code",
      "source": [
        "def create_date_table(start='2014-01-01', end='2022-12-31'):\n",
        "    start_ts = pd.to_datetime(start).date()\n",
        "\n",
        "    end_ts = pd.to_datetime(end).date()\n",
        "\n",
        "    # record timetsamp is empty for now\n",
        "    dates =  pd.DataFrame(columns=['Record_timestamp'],\n",
        "        index=pd.date_range(start_ts, end_ts))\n",
        "    dates.index.name = 'Date'\n",
        "\n",
        "    days_names = {\n",
        "        i: name\n",
        "        for i, name\n",
        "        in enumerate(['Monday', 'Tuesday', 'Wednesday',\n",
        "                      'Thursday', 'Friday', 'Saturday', \n",
        "                      'Sunday'])\n",
        "    }\n",
        "\n",
        "    dates['Day'] = dates.index.dayofweek.map(days_names.get)\n",
        "    dates['Week'] = dates.index.week\n",
        "    dates['Month'] = dates.index.month\n",
        "    dates['Quarter'] = dates.index.quarter\n",
        "    dates['Year'] = dates.index.year\n",
        "    dates.reset_index(inplace=True)\n",
        "    dates.index.name = 'date_id'\n",
        "    return dates"
      ],
      "metadata": {
        "id": "RS6zB3qNFasz"
      },
      "execution_count": null,
      "outputs": []
    },
    {
      "cell_type": "code",
      "source": [
        "date = create_date_table(start='2014-01-01', end='2022-12-31')"
      ],
      "metadata": {
        "id": "BdkliUwqF1Eb"
      },
      "execution_count": null,
      "outputs": []
    },
    {
      "cell_type": "code",
      "source": [
        "date.insert(loc=1,\n",
        "          column='country',\n",
        "          value='Finland',)"
      ],
      "metadata": {
        "id": "UPtKJK8UKYS8"
      },
      "execution_count": null,
      "outputs": []
    },
    {
      "cell_type": "code",
      "source": [
        "display(date)"
      ],
      "metadata": {
        "id": "CCNEIjZRF46X"
      },
      "execution_count": null,
      "outputs": []
    },
    {
      "cell_type": "code",
      "source": [
        "date.to_csv('Date.csv', index=False)"
      ],
      "metadata": {
        "id": "VlIqZ5lQGc-g"
      },
      "execution_count": null,
      "outputs": []
    },
    {
      "cell_type": "code",
      "source": [
        "Finland_Airports = Finland_Airports.reset_index()\n",
        "# display(Finland_Airports)"
      ],
      "metadata": {
        "id": "aRVRUboDQ4DD"
      },
      "execution_count": null,
      "outputs": []
    },
    {
      "cell_type": "code",
      "source": [
        "Finland_Airports = Finland_Airports.rename(columns={'All Passengers': 'Passengers'})\n"
      ],
      "metadata": {
        "id": "8zCkgh08SH6J"
      },
      "execution_count": null,
      "outputs": []
    },
    {
      "cell_type": "code",
      "source": [
        "Netherlands_Airports_summary = Netherlands_Airports_summary.drop(['Aircraft movements'], axis=1)\n",
        "Netherlands_Airports_summary = Netherlands_Airports_summary.drop(['Local flights'], axis=1)\n",
        "\n",
        "# display(Netherlands_Airports_summary)"
      ],
      "metadata": {
        "id": "Bs8ETWN6Pbo8"
      },
      "execution_count": null,
      "outputs": []
    },
    {
      "cell_type": "code",
      "source": [
        "AirportsData = Finland_Airports.append(Netherlands_Airports_summary)\n",
        "AirportsData['Year'] = pd.to_datetime(AirportsData['Year'], format='%Y')\n",
        "\n",
        "AirportsData = AirportsData.rename(columns={'Year': 'Date'})\n",
        "Finland_Airports = Finland_Airports.rename(columns={'Year': 'Date'})\n"
      ],
      "metadata": {
        "id": "ui6WoRdtRoCI"
      },
      "execution_count": null,
      "outputs": []
    },
    {
      "cell_type": "code",
      "source": [
        "# display(AirportsData)\n",
        "\n"
      ],
      "metadata": {
        "id": "TIlH1NsaUBth"
      },
      "execution_count": null,
      "outputs": []
    },
    {
      "cell_type": "code",
      "source": [
        "AirportsData.to_csv('AirportsData.csv', index=False)"
      ],
      "metadata": {
        "id": "zNbMPs4DZpSe"
      },
      "execution_count": null,
      "outputs": []
    },
    {
      "cell_type": "code",
      "source": [
        "Vehicles_Finland.insert(0, 'Name', 'Finland')\n",
        "Vehicles_Netherlands.insert(0, 'Name', 'Netherlands')"
      ],
      "metadata": {
        "id": "6YrF55uO7S_r"
      },
      "execution_count": null,
      "outputs": []
    },
    {
      "cell_type": "code",
      "source": [
        "VehiclesData = Vehicles_Finland.append(Vehicles_Netherlands)\n",
        "VehiclesData.to_csv('VehiclesData.csv', index=False)\n",
        "VehiclesData.head()"
      ],
      "metadata": {
        "id": "fZnZujfx7yhX"
      },
      "execution_count": null,
      "outputs": []
    }
  ]
}